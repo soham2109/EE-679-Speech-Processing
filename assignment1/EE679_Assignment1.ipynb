{
 "cells": [
  {
   "cell_type": "markdown",
   "metadata": {
    "colab_type": "text",
    "id": "jUtjTkPyCMNA"
   },
   "source": [
    "#### Question 1\n",
    "Given the following specification for a single-formant resonator, obtain the transfer function of the filter H(z) from the relation between resonance frequency / bandwidth, and the pole angle / radius. Plot filter magnitude response (dB magnitude versus frequency) and impulse response.  \n",
    "\n",
    "* F1 (formant) = 900 Hz\n",
    "* B1(bandwidth) = 200 Hz\n",
    "* Fs (sampling freq) = 16 kHz"
   ]
  },
  {
   "cell_type": "code",
   "execution_count": 1,
   "metadata": {
    "colab": {
     "base_uri": "https://localhost:8080/",
     "height": 71
    },
    "colab_type": "code",
    "id": "2Isbdzuz9t9K",
    "outputId": "cff293e7-4f94-478c-9bfa-78126ff6b2ec"
   },
   "outputs": [
    {
     "name": "stderr",
     "output_type": "stream",
     "text": [
      "<ipython-input-1-2707b7cb2082>:13: MatplotlibDeprecationWarning: \n",
      "The text.latex.unicode rcparam was deprecated in Matplotlib 3.0 and will be removed in 3.2.\n",
      "  plt.rcParams['text.latex.unicode']=True\n"
     ]
    }
   ],
   "source": [
    "import numpy as np\n",
    "from scipy.signal import zpk2tf,freqz,sawtooth,square,impulse\n",
    "from math import pi\n",
    "from numpy import exp,zeros_like,cos,sin,log10,angle\n",
    "from numpy import convolve as conv\n",
    "\n",
    "import matplotlib\n",
    "matplotlib.use('PS')\n",
    "import pylab as plt\n",
    "plt.switch_backend('PS')\n",
    "\n",
    "plt.rcParams['text.usetex'] = True\n",
    "plt.rcParams['text.latex.unicode']=True\n",
    "plt.style.use(['bmh'])\n",
    "plt.rcParams['font.size'] = 10\n",
    "plt.rcParams['axes.labelsize'] = 10\n",
    "#plt.rcParams['axes.labelweight'] = 'bold'\n",
    "plt.rcParams['xtick.labelsize'] = 8\n",
    "plt.rcParams['ytick.labelsize'] = 8\n",
    "plt.rcParams['legend.fontsize'] = 10\n",
    "plt.rcParams['figure.titlesize'] = 12\n",
    "\n",
    "plt.rcParams.update({\"axes.facecolor\" : \"white\",\n",
    "                     \"axes.edgecolor\":  \"black\"})"
   ]
  },
  {
   "cell_type": "code",
   "execution_count": 2,
   "metadata": {
    "colab": {},
    "colab_type": "code",
    "id": "eLyWmM47-AW9"
   },
   "outputs": [],
   "source": [
    "f1 = 900 #formant frequency\n",
    "b1 = 200 #bandwidth\n",
    "fs = 16000 #sampling frequency\n",
    "ts = 1.0/fs # sampling time"
   ]
  },
  {
   "cell_type": "code",
   "execution_count": 3,
   "metadata": {
    "colab": {},
    "colab_type": "code",
    "id": "FLa-g0Yo-WG6"
   },
   "outputs": [],
   "source": [
    "r = np.exp(-pi*b1*ts)\n",
    "theta = 2*pi*f1*ts\n",
    "\n",
    "poles = [r*exp(1j*theta) , r*exp(-1j*theta)]\n",
    "zeros = zeros_like(poles)"
   ]
  },
  {
   "cell_type": "code",
   "execution_count": 4,
   "metadata": {
    "colab": {
     "base_uri": "https://localhost:8080/",
     "height": 53
    },
    "colab_type": "code",
    "id": "aPGGwyjy_S4O",
    "outputId": "e8a41fd2-2f4b-4e27-d3db-10dbb29a6d3b"
   },
   "outputs": [
    {
     "name": "stdout",
     "output_type": "stream",
     "text": [
      "[1. 0. 0.] [ 1.         -1.80412535  0.92446525]\n",
      "-1.8041253513834825 0.9244652503762558\n"
     ]
    }
   ],
   "source": [
    "b,a = zpk2tf(zeros,poles,k=1)\n",
    "print(b,a)\n",
    "print(-2*r*cos(theta),r**2)"
   ]
  },
  {
   "cell_type": "code",
   "execution_count": 5,
   "metadata": {
    "colab": {
     "base_uri": "https://localhost:8080/",
     "height": 301
    },
    "colab_type": "code",
    "id": "oO30B5qr_bMS",
    "outputId": "3b0fe22a-a147-47e6-f385-c2b94491be85"
   },
   "outputs": [],
   "source": [
    "w,h = freqz(b,a)\n",
    "plt.figure()\n",
    "plt.subplot(1,2,1)\n",
    "plt.plot((fs * w/(2*pi))/1000.0,20*log10(abs(h)),'b')\n",
    "s=\"Frequency Response of Vocal Tract with F1: {} and B1: {}\"\n",
    "plt.suptitle(s.format(f1,b1),fontsize=12)\n",
    "plt.title(r\"Magnitude response\",fontsize=12)\n",
    "plt.ylabel(r\"$|H(\\Omega|$ in (db)\",fontsize=10)\n",
    "plt.xlabel(r\"$\\Omega$ (kHz)\")\n",
    "plt.subplot(1,2,2)\n",
    "angles = np.angle(h)\n",
    "plt.plot((fs * w/(2*pi))/1000.0,angles,'b')\n",
    "plt.title(r\"Angle\",fontsize=12)\n",
    "plt.ylabel(r\"Angle (rad)\",fontsize=10)\n",
    "plt.xlabel(r\"$\\Omega$ (kHz)\",fontsize=10)\n",
    "plt.subplots_adjust(left=0.125, \n",
    "                    wspace=0.4)\n",
    "plt.savefig(\"plots/Question1.png\",bbox_inches=\"tight\",pad=-1,format=\"png\")"
   ]
  },
  {
   "cell_type": "code",
   "execution_count": 6,
   "metadata": {
    "colab": {
     "base_uri": "https://localhost:8080/",
     "height": 305
    },
    "colab_type": "code",
    "id": "4QVj2JD1IetP",
    "outputId": "82fd4c12-c1cb-4a91-d792-813c6c0a7f99"
   },
   "outputs": [],
   "source": [
    "# impulse response of the filter\n",
    "# forming the impulse input\n",
    "\n",
    "pulse = np.zeros((200,1))\n",
    "pulse[0] = 1\n",
    "\n",
    "# initializing the impulse response\n",
    "y = zeros_like(pulse)\n",
    "time = np.linspace(0,len(pulse)*1.0/fs , 200, endpoint=False)\n",
    "\n",
    "for n in range(len(pulse)):\n",
    "    y[n] += b[0] * pulse[n]\n",
    "    for k in range(1,len(a)):\n",
    "        if (n-k)>=0:\n",
    "            y[n] -= a[k] * y[n-k]\n",
    "\n",
    "\n",
    "plt.figure()\n",
    "plt.suptitle(r\"Excitation Response\",fontsize=12)\n",
    "plt.subplot(1,2,1)\n",
    "plt.plot(time,pulse,'b')\n",
    "plt.title(\"Excitation Signal\")\n",
    "plt.ylabel(r\"Amplitude\",fontsize=10)\n",
    "plt.xlabel(r\"Time (sec)\",fontsize=10)\n",
    "plt.subplot(1,2,2)\n",
    "plt.plot(time,y,'b')\n",
    "plt.title(\"Impulse Response\")\n",
    "plt.ylabel(r\"Amplitude\",fontsize=10)\n",
    "plt.xlabel(r\"Time (sec)\",fontsize=10)\n",
    "plt.savefig(\"plots/Question1 Impulse Response.png\",bbox_inches=\"tight\",pad=-1,format=\"png\")"
   ]
  },
  {
   "cell_type": "markdown",
   "metadata": {
    "colab_type": "text",
    "id": "TVoRx5kXEIi-"
   },
   "source": [
    "#### Question 2\n",
    "Excite the above resonator (“filter”) with a periodic source excitation of F0 = 140 Hz. You can approximate the source signal by narrow-triangular pulse train. Compute the output of the source-filter system over the duration of 0.5 second using the difference equation implementation of the LTI system. Plot the time domain waveform over a few pitch periods so that you can observe waveform characteristics. Play out the 0.5 sec duration sound and comment on the\n",
    "sound quality. "
   ]
  },
  {
   "cell_type": "code",
   "execution_count": 7,
   "metadata": {
    "colab": {},
    "colab_type": "code",
    "id": "DqkS2EFlETHS"
   },
   "outputs": [],
   "source": [
    "#formant_frequencies = [730, 1090, 2440]\n",
    "#bandwidths= [100, 100, 100]\n",
    "f1 = 900 #formant frequency\n",
    "b1 = 200 #bandwidth\n",
    "f_sampling = 16000\n",
    "f_signal = 140\n",
    "time = 0.5\n",
    "#window_size = 20\n",
    "#npoint_dft = 1024\n",
    "t_sampling = 1/f_sampling\n",
    "num_samples = int(f_sampling*time)"
   ]
  },
  {
   "cell_type": "code",
   "execution_count": 8,
   "metadata": {
    "colab": {},
    "colab_type": "code",
    "id": "xzP0gUobFHSk"
   },
   "outputs": [],
   "source": [
    "r = np.exp(-pi*b1*ts)\n",
    "theta = 2*pi*f1*ts\n",
    "\n",
    "poles = [r*exp(1j*theta) , r*exp(-1j*theta)]\n",
    "zeros = 0"
   ]
  },
  {
   "cell_type": "code",
   "execution_count": 9,
   "metadata": {
    "colab": {},
    "colab_type": "code",
    "id": "khk255jdFIrZ"
   },
   "outputs": [],
   "source": [
    "# coefficients in frequency domain\n",
    "# b : numerator coefficients\n",
    "# a : denominator coefficients\n",
    "b,a = zpk2tf(zeros,poles,k=1)"
   ]
  },
  {
   "cell_type": "code",
   "execution_count": 10,
   "metadata": {
    "colab": {
     "base_uri": "https://localhost:8080/",
     "height": 291
    },
    "colab_type": "code",
    "id": "o_LgCbRrHJ5o",
    "outputId": "8a08fd4a-8e7a-49ff-ad59-6c22d1e6c6de"
   },
   "outputs": [],
   "source": [
    "t = np.linspace(0,time,num_samples)\n",
    "#signal = sawtooth(f_signal*pi*t,width=0.5)\n",
    "\n",
    "# sawtooth approximation using square\n",
    "sig = square(2 * pi * f_signal* t, duty=0.01)+1\n",
    "\n",
    "plt.figure()\n",
    "plt.plot(t[:1000],sig[:1000])\n",
    "plt.xlabel(\"$Time (sec)$\",fontsize=10)\n",
    "plt.ylabel(\"$Amplitude$\",fontsize=10)\n",
    "plt.title(\"Approximated Triangular Impulses\")\n",
    "plt.savefig(\"plots/Question2 Triangular Impulses.png\",bbox_inches=\"tight\",pad=-1,format=\"png\")"
   ]
  },
  {
   "cell_type": "code",
   "execution_count": 11,
   "metadata": {
    "colab": {},
    "colab_type": "code",
    "id": "T7x44oBIF4OE"
   },
   "outputs": [],
   "source": [
    "y = zeros_like(sig)\n",
    "# difference equation\n",
    "for n in range(len(sig)):\n",
    "    for k in range(len(b)):\n",
    "            if (n-k)>=0:\n",
    "                y[n] += b[k] * sig[n-k]\n",
    "    for k in range(1,len(b)):\n",
    "        if (n-k)>=0:\n",
    "            y[n] += b[k] * sig[n-k]\n",
    "    for k in range(1,len(a)):\n",
    "        if (n-k)>=0:\n",
    "            y[n] -= a[k] * y[n-k]\n"
   ]
  },
  {
   "cell_type": "code",
   "execution_count": 12,
   "metadata": {
    "colab": {
     "base_uri": "https://localhost:8080/",
     "height": 305
    },
    "colab_type": "code",
    "id": "Z8T6lOAQFwDl",
    "outputId": "19760cf5-bd2c-4e42-c8ac-b98e220d5b44"
   },
   "outputs": [],
   "source": [
    "plt.figure()\n",
    "plt.title(\"Excitation Response\",fontsize=12)\n",
    "plt.plot(t[:2514],y[:2514],'b')\n",
    "plt.ylabel(\"Amplitude\",fontsize=10)\n",
    "plt.xlabel(\"Time (sec)\",fontsize=10)\n",
    "plt.savefig(\"plots/Question2 Response.png\",bbox_inches=\"tight\",pad=-1)"
   ]
  },
  {
   "cell_type": "code",
   "execution_count": 13,
   "metadata": {
    "colab": {},
    "colab_type": "code",
    "id": "7en4szLNKMaA"
   },
   "outputs": [],
   "source": [
    "from scipy.io.wavfile import write\n",
    "write(\"wavfiles/Q2output\"+\"_\".join([str(f_signal),str(f1),str(b1)])+\".wav\",f_sampling,y)"
   ]
  },
  {
   "cell_type": "markdown",
   "metadata": {
    "colab_type": "text",
    "id": "iUEbUOuaglDY"
   },
   "source": [
    "#### Question 3\n",
    "Vary the parameters as indicated below and comment on the differences in waveform and sound quality for the different parameter combinations.  \n",
    "\n",
    "* (a) F0 = 120 Hz, F1 = 300 Hz, B1 = 100 Hz\n",
    "* (b) F0 = 120 Hz, F1=1200 Hz, B1 = 200 Hz\n",
    "* (c) F0 = 180 Hz, F1 = 300 Hz, B1 = 100 Hz"
   ]
  },
  {
   "cell_type": "code",
   "execution_count": 20,
   "metadata": {
    "colab": {},
    "colab_type": "code",
    "id": "FHCMfxeeM3Kt"
   },
   "outputs": [],
   "source": [
    "def generate_signal_response(time,sig,b,a):\n",
    "    y = zeros_like(sig)\n",
    "    # difference equation\n",
    "    for n in range(len(sig)):\n",
    "        for k in range(len(b)):\n",
    "            if (n-k)>=0:\n",
    "                y[n] += b[k] * sig[n-k]\n",
    "        for k in range(1,len(a)):\n",
    "            if (n-k)>=0:\n",
    "                y[n] -= a[k] * y[n-k]\n",
    "    return y\n",
    "\n",
    "def plot_magnitude_response(b,a,f1,b1,f_signal):\n",
    "    w,h = freqz(b,a)\n",
    "    plt.figure()\n",
    "    s = \"Frequency response of vocal tract with F1: {}Hz and B1: {}Hz\"\n",
    "    plt.suptitle(s.format(f1,b1),fontsize=12)\n",
    "    plt.subplot(1,2,1)\n",
    "    plt.plot(fs * w/(2*pi),20*log10(abs(h)),'b')\n",
    "    plt.title(r\"Magnitude response\",fontsize=12)\n",
    "    plt.ylabel(r\"$|H(\\Omega|$\",fontsize=10)\n",
    "    plt.xlabel(r\"$\\Omega$\")\n",
    "    plt.subplot(1,2,2)\n",
    "    angles = np.angle(h)\n",
    "    plt.plot(fs * w/(2*pi),angles,'b')\n",
    "    plt.title(r\"Angle\",fontsize=12)\n",
    "    plt.ylabel(r\"Angle (rad)\",fontsize=10)\n",
    "    plt.xlabel(r\"$\\Omega$\",fontsize=10)\n",
    "    plt.subplots_adjust(left=0.125,\n",
    "                    wspace=0.4, )\n",
    "    plt.savefig(\"plots/Q3_Freq_resp_\"+str(f_signal)+\"_\"+str(f1)+\"_\"+str(b1)+\".png\",bbox_inches=\"tight\",pad=-1,format=\"png\")\n",
    "\n",
    "def plot_and_save_waveform(t,y,f_signal,f1,b1,f_sampling):\n",
    "    plt.figure()\n",
    "    plt.title(r\"Excitation Response\",fontsize=12)\n",
    "    plt.plot(t[:2514],y[:2514],'b')\n",
    "    plt.ylabel(r\"Amplitude\",fontsize=10)\n",
    "    plt.xlabel(r\"Time (sec)\",fontsize=10)\n",
    "    plt.savefig(\"plots/Q3_Signal_Response\"+str(f_signal)+str(f1)+\"_\"+str(b1)+\".png\",bbox_inches=\"tight\",pad=-1,format=\"png\")\n",
    "    write(\"wavfiles/output\"+\"_\".join([str(f_signal),str(f1),str(b1)])+\".wav\",f_sampling,y)\n",
    "\n",
    "def generate_waveform(f1,b1,f_signal,fs=16000):\n",
    "    time = 0.5 # total time duration\n",
    "    ts = 1/fs # sampling time\n",
    "    num_samples = int(f_sampling*time) # total number of signal samples\n",
    "    r = np.exp(-pi*b1*ts) #radius in z-plane\n",
    "    theta = 2*pi*f1*ts #angle in z-plane\n",
    "\n",
    "    poles = [r*exp(1j*theta) , r*exp(-1j*theta)] #poles : 2 for every formant\n",
    "    zeros = zeros_like(poles) # zeros \n",
    "    \n",
    "    b,a = zpk2tf(zeros,poles,k=1)\n",
    "    plot_magnitude_response(b,a,f1,b1,f_signal)\n",
    "    t = np.linspace(0,time,num_samples)\n",
    "\n",
    "    # sawtooth approximation using square\n",
    "    sig = square(2 * pi * f_signal* t, duty=0.01)+1\n",
    "\n",
    "    # \n",
    "    response = generate_signal_response(t,sig,b,a)\n",
    "    plot_and_save_waveform(t,response,f_signal,f1,b1,fs)\n"
   ]
  },
  {
   "cell_type": "code",
   "execution_count": 21,
   "metadata": {
    "colab": {
     "base_uri": "https://localhost:8080/",
     "height": 1000
    },
    "colab_type": "code",
    "id": "ndF5f56-P_4b",
    "outputId": "e5fbd6d3-ba5c-44f2-9c8c-cce3fde0da1e"
   },
   "outputs": [
    {
     "name": "stderr",
     "output_type": "stream",
     "text": [
      "<ipython-input-20-4db0b76cd569>:15: RuntimeWarning: More than 20 figures have been opened. Figures created through the pyplot interface (`matplotlib.pyplot.figure`) are retained until explicitly closed and may consume too much memory. (To control this warning, see the rcParam `figure.max_open_warning`).\n",
      "  plt.figure()\n",
      "<ipython-input-20-4db0b76cd569>:34: RuntimeWarning: More than 20 figures have been opened. Figures created through the pyplot interface (`matplotlib.pyplot.figure`) are retained until explicitly closed and may consume too much memory. (To control this warning, see the rcParam `figure.max_open_warning`).\n",
      "  plt.figure()\n",
      "<ipython-input-20-4db0b76cd569>:15: RuntimeWarning: More than 20 figures have been opened. Figures created through the pyplot interface (`matplotlib.pyplot.figure`) are retained until explicitly closed and may consume too much memory. (To control this warning, see the rcParam `figure.max_open_warning`).\n",
      "  plt.figure()\n",
      "<ipython-input-20-4db0b76cd569>:34: RuntimeWarning: More than 20 figures have been opened. Figures created through the pyplot interface (`matplotlib.pyplot.figure`) are retained until explicitly closed and may consume too much memory. (To control this warning, see the rcParam `figure.max_open_warning`).\n",
      "  plt.figure()\n",
      "<ipython-input-20-4db0b76cd569>:15: RuntimeWarning: More than 20 figures have been opened. Figures created through the pyplot interface (`matplotlib.pyplot.figure`) are retained until explicitly closed and may consume too much memory. (To control this warning, see the rcParam `figure.max_open_warning`).\n",
      "  plt.figure()\n",
      "<ipython-input-20-4db0b76cd569>:34: RuntimeWarning: More than 20 figures have been opened. Figures created through the pyplot interface (`matplotlib.pyplot.figure`) are retained until explicitly closed and may consume too much memory. (To control this warning, see the rcParam `figure.max_open_warning`).\n",
      "  plt.figure()\n"
     ]
    }
   ],
   "source": [
    "formant_frequencies = [300, 1200, 300]\n",
    "bandwidths= [100, 200, 100]\n",
    "signal_frequencies = [120,120,180]\n",
    "\n",
    "for i,j,k in list(zip(formant_frequencies,bandwidths,signal_frequencies)):\n",
    "    generate_waveform(i,j,k)"
   ]
  },
  {
   "cell_type": "markdown",
   "metadata": {
    "colab_type": "text",
    "id": "iRULi8V5EWNC"
   },
   "source": [
    "#### Question 4\n",
    "In place of the simple single-resonance signal, synthesize the following more realistic vowel sounds at two distinct pitches (F0 = 120 Hz, F0 = 220 Hz). Keep the bandwidths constant at 100 Hz for all formants. Duration of sound: 0.5 sec  \n",
    "\n",
    "**Vowel F1, F2, F3**\n",
    "* /a/ 730, 1090, 2440\n",
    "* /i/ 270, 2290, 3010\n",
    "* /u/ 300, 870, 2240\n",
    "\n",
    "(Optional: Use glottal pulse shaping and lip radiation filtering. Add a small amount of aspiration noise\n",
    "and pitch jitter.)"
   ]
  },
  {
   "cell_type": "code",
   "execution_count": 17,
   "metadata": {
    "colab": {},
    "colab_type": "code",
    "id": "9NZ4j7NmIH7U"
   },
   "outputs": [],
   "source": [
    "def generate_signal_response(t,sig,b,a):\n",
    "    y = zeros_like(sig)\n",
    "    # difference equation\n",
    "    for n in range(len(sig)):\n",
    "        for k in range(len(b)):\n",
    "            if (n-k)>=0:\n",
    "                y[n] += b[k] * sig[n-k]\n",
    "        for k in range(1,len(a)):\n",
    "            if (n-k)>=0:\n",
    "                y[n] -= a[k] * y[n-k]     \n",
    "    return y\n",
    "\n",
    "def plot_magnitude_response(b,a,vowel,f0):\n",
    "    w,h = freqz(b,a)\n",
    "    plt.figure()\n",
    "    s = \"Vocal tract response for vowel: /'{}'/ with signal freq: {}Hz\"\n",
    "    plt.suptitle(s.format(vowel,f0) ,fontsize=12,weight=2)\n",
    "    plt.subplot(1,2,1)\n",
    "    plt.plot(fs * w/(2*pi),20*log10(abs(h)),'b')\n",
    "    plt.title(\"Magnitude response\",fontsize=12)\n",
    "    plt.ylabel(r\"$|H(\\Omega|$\",fontsize=10)\n",
    "    plt.xlabel(r\"$\\Omega$\")\n",
    "    plt.subplot(1,2,2)\n",
    "    angles = np.angle(h)\n",
    "    plt.plot(fs * w/(2*pi),angles,'b')\n",
    "    plt.title(r\"Angle\",fontsize=12)\n",
    "    plt.ylabel(r\"Angle (rad)\",fontsize=10)\n",
    "    plt.xlabel(r\"$\\Omega$\",fontsize=10)\n",
    "    plt.subplots_adjust(left=0.125,\n",
    "                    wspace=0.4)\n",
    "    plt.savefig(\"plots/Q4_Freq_resp_\"+vowel+\"_\"+str(f0)+\".png\",bbox_inches=\"tight\",pad=-1,format=\"png\")\n",
    "\n",
    "def plot_and_save_waveform(t,y,f_signal,f_sampling,vowel):\n",
    "    plt.figure()\n",
    "    plt.title(\"Excitation\",fontsize=12)\n",
    "    plt.plot(t[:2514],y[:2514],'b')\n",
    "    plt.ylabel(\"Impulse Response\",fontsize=10)\n",
    "    plt.xlabel(\"Time (sec)\",fontsize=10)\n",
    "    plt.savefig(\"plots/Q4_Signal_Response\"+str(f_signal)+\"_\"+vowel+\".png\",bbox_inches=\"tight\",pad=-1,format=\"png\")\n",
    "    write(\"wavfiles/output\"+\"_\"+str(f_signal)+\"_\"+vowel+\".wav\",f_sampling,y)\n",
    "\n",
    "def vocal_tract(formant_frequencies):\n",
    "    global bw\n",
    "    r = []\n",
    "    theta = []\n",
    "    for i in formant_frequencies:\n",
    "        r.append(np.exp(-pi*bw*ts)) #radius in z-plane\n",
    "        theta.append(2*pi*i*ts) #angle in z-plane\n",
    "\n",
    "    denom_coeffs = []\n",
    "    num_coeffs = []\n",
    "    convolved_a = 1\n",
    "    for radius,angle in zip(r,theta):\n",
    "        poles = [radius*exp(1j*angle),radius*exp(-1j*angle)]\n",
    "        zeros = zeros_like(poles)\n",
    "        b,a = zpk2tf(zeros,poles,k=1)\n",
    "        num_coeffs.append(b)\n",
    "        denom_coeffs.append(a)\n",
    "        convolved_a = conv(convolved_a,a)\n",
    "\n",
    "    denom_coeffs = zeros_like(convolved_a)\n",
    "    denom_coeffs[0] = 1\n",
    "    \n",
    "    return denom_coeffs,convolved_a\n",
    "\n",
    "def generate_vowels(formant_frequencies,bandwidth,signal_frequency,vowel,time,f_sampling):\n",
    "    ts = 1/f_sampling # sampling time\n",
    "    num_samples = int(f_sampling*time) # total number of signal samples\n",
    "\n",
    "    b,a = vocal_tract(formant_frequencies)\n",
    "    plot_magnitude_response(b,a,vowel,signal_frequency)\n",
    "\n",
    "    t = np.linspace(0,time,num_samples)\n",
    "\n",
    "    # sawtooth approximation using square\n",
    "    sig = square(2 * pi * signal_frequency* t, duty=0.01)+1\n",
    "\n",
    "    response = generate_signal_response(t,sig,b,a)\n",
    "    plot_and_save_waveform(t,response,signal_frequency,f_sampling,vowel)"
   ]
  },
  {
   "cell_type": "code",
   "execution_count": 18,
   "metadata": {
    "colab": {
     "base_uri": "https://localhost:8080/",
     "height": 1000
    },
    "colab_type": "code",
    "id": "VwX_aOTPJoKQ",
    "outputId": "d90af5af-3e34-47b6-dcc7-63e53a071606"
   },
   "outputs": [
    {
     "name": "stderr",
     "output_type": "stream",
     "text": [
      "<ipython-input-17-a9f335e32b24>:15: RuntimeWarning: More than 20 figures have been opened. Figures created through the pyplot interface (`matplotlib.pyplot.figure`) are retained until explicitly closed and may consume too much memory. (To control this warning, see the rcParam `figure.max_open_warning`).\n",
      "  plt.figure()\n",
      "<ipython-input-17-a9f335e32b24>:34: RuntimeWarning: More than 20 figures have been opened. Figures created through the pyplot interface (`matplotlib.pyplot.figure`) are retained until explicitly closed and may consume too much memory. (To control this warning, see the rcParam `figure.max_open_warning`).\n",
      "  plt.figure()\n"
     ]
    }
   ],
   "source": [
    "f0 = [120,220]\n",
    "f1 = [730,270,300]\n",
    "f2 = [1090,2290,870]\n",
    "f3 = [2440,3010,2240]\n",
    "bw = 100\n",
    "vow = [\"a\",\"i\",\"u\"]\n",
    "duration = 0.5\n",
    "fs = 16000 #sampling frequency\n",
    "vowels = {}\n",
    "for i in range(len(vow)):\n",
    "    vowels[vow[i]] = {\"formants\":[f1[i],f2[i],f3[i]]}\n",
    "\n",
    "for sig_freq in f0:\n",
    "    for vowel in vowels:\n",
    "        generate_vowels(vowels[vowel][\"formants\"],bw,sig_freq,vowel,duration,fs)"
   ]
  },
  {
   "cell_type": "code",
   "execution_count": 19,
   "metadata": {
    "colab": {},
    "colab_type": "code",
    "id": "hcdXGTD0W5Sj"
   },
   "outputs": [
    {
     "data": {
      "text/plain": [
       "'\\n! sudo apt-get install texlive-latex-recommended \\n! sudo apt-get install dvipng texlive-latex-extra texlive-fonts-recommended  \\n! wget http://mirrors.ctan.org/macros/latex/contrib/type1cm.zip \\n! unzip type1cm.zip -d /tmp/type1cm \\n! cd /tmp/type1cm/type1cm/ && sudo latex type1cm.ins\\n! sudo mkdir /usr/share/texmf/tex/latex/type1cm \\n! sudo cp /tmp/type1cm/type1cm/type1cm.sty /usr/share/texmf/tex/latex/type1cm \\n! sudo texhash \\n! apt install cm-super\\n! apt install dvipng\\n'"
      ]
     },
     "execution_count": 19,
     "metadata": {},
     "output_type": "execute_result"
    }
   ],
   "source": [
    "### Google colab code to install tex\n",
    "\"\"\"\n",
    "! sudo apt-get install texlive-latex-recommended \n",
    "! sudo apt-get install dvipng texlive-latex-extra texlive-fonts-recommended  \n",
    "! wget http://mirrors.ctan.org/macros/latex/contrib/type1cm.zip \n",
    "! unzip type1cm.zip -d /tmp/type1cm \n",
    "! cd /tmp/type1cm/type1cm/ && sudo latex type1cm.ins\n",
    "! sudo mkdir /usr/share/texmf/tex/latex/type1cm \n",
    "! sudo cp /tmp/type1cm/type1cm/type1cm.sty /usr/share/texmf/tex/latex/type1cm \n",
    "! sudo texhash \n",
    "! apt install cm-super\n",
    "! apt install dvipng\n",
    "\"\"\""
   ]
  },
  {
   "cell_type": "code",
   "execution_count": null,
   "metadata": {},
   "outputs": [],
   "source": []
  }
 ],
 "metadata": {
  "colab": {
   "collapsed_sections": [],
   "name": "EE679-Assignment1.ipynb",
   "provenance": []
  },
  "kernelspec": {
   "display_name": "Python 3",
   "language": "python",
   "name": "python3"
  },
  "language_info": {
   "codemirror_mode": {
    "name": "ipython",
    "version": 3
   },
   "file_extension": ".py",
   "mimetype": "text/x-python",
   "name": "python",
   "nbconvert_exporter": "python",
   "pygments_lexer": "ipython3",
   "version": "3.8.2"
  }
 },
 "nbformat": 4,
 "nbformat_minor": 1
}
